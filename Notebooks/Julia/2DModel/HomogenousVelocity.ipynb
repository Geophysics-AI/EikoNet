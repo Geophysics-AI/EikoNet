{
 "cells": [
  {
   "cell_type": "markdown",
   "metadata": {},
   "source": [
    "# RayTracing Julia - A Julia Software Package for Machine Learning Based Ray Tracing"
   ]
  },
  {
   "cell_type": "markdown",
   "metadata": {},
   "source": [
    "## 2D Model with Homogenous Velocity"
   ]
  },
  {
   "cell_type": "markdown",
   "metadata": {},
   "source": [
    "Thoughout this notebook the processing procedures required to generated a ray-tracing procedure using machine learning"
   ]
  },
  {
   "cell_type": "code",
   "execution_count": 20,
   "metadata": {},
   "outputs": [],
   "source": [
    "using Pkg\n",
    "#Pkg.add(\"Flux\")\n",
    "#Pkg.add(\"Plots\")\n",
    "#Pkg.add(\"Zygote\")\n",
    "\n",
    "using Flux\n",
    "using Zygote\n",
    "using Plots\n",
    "using LinearAlgebra"
   ]
  },
  {
   "cell_type": "markdown",
   "metadata": {},
   "source": [
    "Constructing some input data where $X$ represents the source reciever locations in form $[x_s,y_s,x_r,y_r]$ and $Y$ is the velocity at the reciever location $[Y_r]$"
   ]
  },
  {
   "cell_type": "code",
   "execution_count": 56,
   "metadata": {},
   "outputs": [],
   "source": [
    "# ----- Defining the dataset ------\n",
    "numsamples = 100\n",
    "\n",
    "x = rand(Float32,4,numsamples);\n",
    "y = ones(Float32,numsamples).*0.5;\n",
    "data = [(x,y)];"
   ]
  },
  {
   "cell_type": "markdown",
   "metadata": {},
   "source": [
    "Defining the network achietexture, see paper for more info"
   ]
  },
  {
   "cell_type": "code",
   "execution_count": 57,
   "metadata": {},
   "outputs": [],
   "source": [
    "struct IdentitySkip\n",
    "   inner\n",
    "   activation\n",
    "end\n",
    "\n",
    "(m::IdentitySkip)(x) = m.inner(x) .+ x\n",
    "\n",
    "fc0      = Dense(2*2,32,relu)\n",
    "fc1      = Dense(32,512,relu)\n",
    "rn1      = IdentitySkip(Dense(512, 512), relu)\n",
    "rn2      = IdentitySkip(Dense(512, 512), relu)\n",
    "rn3      = IdentitySkip(Dense(512, 512), relu)\n",
    "rn4      = IdentitySkip(Dense(512, 512), relu)\n",
    "rn5      = IdentitySkip(Dense(512, 512), relu)\n",
    "rn6      = IdentitySkip(Dense(512, 512), relu)\n",
    "rn7      = IdentitySkip(Dense(512, 512), relu)\n",
    "rn8      = IdentitySkip(Dense(512, 512), relu)\n",
    "rn9      = IdentitySkip(Dense(512, 512), relu)\n",
    "rn10     = IdentitySkip(Dense(512, 512), relu)\n",
    "fc8      = Dense(512,32,relu)\n",
    "fc9      = Dense(32,1,abs)\n",
    "m = Flux.Chain(fc0,fc1,rn1,rn2,rn3,rn4,rn5,rn6,rn7,rn8,rn9,rn10,fc8,fc9);"
   ]
  },
  {
   "cell_type": "code",
   "execution_count": 107,
   "metadata": {},
   "outputs": [
    {
     "ename": "MethodError",
     "evalue": "MethodError: no method matching (::var\"#190#193\"{Array{Float32,2}})(::Chain{Tuple{Dense{typeof(relu),Array{Float32,2},Array{Float32,1}},Dense{typeof(relu),Array{Float32,2},Array{Float32,1}},IdentitySkip,IdentitySkip,IdentitySkip,IdentitySkip,IdentitySkip,IdentitySkip,IdentitySkip,IdentitySkip,IdentitySkip,IdentitySkip,Dense{typeof(relu),Array{Float32,2},Array{Float32,1}},Dense{typeof(abs),Array{Float32,2},Array{Float32,1}}}})\nClosest candidates are:\n  #190() at In[107]:5",
     "output_type": "error",
     "traceback": [
      "MethodError: no method matching (::var\"#190#193\"{Array{Float32,2}})(::Chain{Tuple{Dense{typeof(relu),Array{Float32,2},Array{Float32,1}},Dense{typeof(relu),Array{Float32,2},Array{Float32,1}},IdentitySkip,IdentitySkip,IdentitySkip,IdentitySkip,IdentitySkip,IdentitySkip,IdentitySkip,IdentitySkip,IdentitySkip,IdentitySkip,Dense{typeof(relu),Array{Float32,2},Array{Float32,1}},Dense{typeof(abs),Array{Float32,2},Array{Float32,1}}}})\nClosest candidates are:\n  #190() at In[107]:5",
      "",
      "Stacktrace:",
      " [1] macro expansion at /home/jsmith/.julia/packages/Zygote/tJj2w/src/compiler/interface2.jl:0 [inlined]",
      " [2] _pullback(::Zygote.Context, ::var\"#190#193\"{Array{Float32,2}}, ::Chain{Tuple{Dense{typeof(relu),Array{Float32,2},Array{Float32,1}},Dense{typeof(relu),Array{Float32,2},Array{Float32,1}},IdentitySkip,IdentitySkip,IdentitySkip,IdentitySkip,IdentitySkip,IdentitySkip,IdentitySkip,IdentitySkip,IdentitySkip,IdentitySkip,Dense{typeof(relu),Array{Float32,2},Array{Float32,1}},Dense{typeof(abs),Array{Float32,2},Array{Float32,1}}}}) at /home/jsmith/.julia/packages/Zygote/tJj2w/src/compiler/interface2.jl:7",
      " [3] adjoint at /home/jsmith/.julia/packages/Zygote/tJj2w/src/lib/lib.jl:153 [inlined]",
      " [4] _pullback at /home/jsmith/.julia/packages/ZygoteRules/6nssF/src/adjoint.jl:47 [inlined]",
      " [5] macro expansion at /home/jsmith/.julia/packages/Zygote/tJj2w/src/compiler/interface2.jl:0 [inlined]",
      " [6] _pullback(::Zygote.Context, ::typeof(ZygoteRules._pullback), ::Zygote.Context, ::var\"#190#193\"{Array{Float32,2}}, ::Chain{Tuple{Dense{typeof(relu),Array{Float32,2},Array{Float32,1}},Dense{typeof(relu),Array{Float32,2},Array{Float32,1}},IdentitySkip,IdentitySkip,IdentitySkip,IdentitySkip,IdentitySkip,IdentitySkip,IdentitySkip,IdentitySkip,IdentitySkip,IdentitySkip,Dense{typeof(relu),Array{Float32,2},Array{Float32,1}},Dense{typeof(abs),Array{Float32,2},Array{Float32,1}}}}) at /home/jsmith/.julia/packages/Zygote/tJj2w/src/compiler/interface2.jl:7",
      " [7] _pullback at /home/jsmith/.julia/packages/Zygote/tJj2w/src/lib/lib.jl:153 [inlined]",
      " [8] _pullback(::Zygote.Context, ::typeof(ZygoteRules._pullback), ::var\"#190#193\"{Array{Float32,2}}, ::Chain{Tuple{Dense{typeof(relu),Array{Float32,2},Array{Float32,1}},Dense{typeof(relu),Array{Float32,2},Array{Float32,1}},IdentitySkip,IdentitySkip,IdentitySkip,IdentitySkip,IdentitySkip,IdentitySkip,IdentitySkip,IdentitySkip,IdentitySkip,IdentitySkip,Dense{typeof(relu),Array{Float32,2},Array{Float32,1}},Dense{typeof(abs),Array{Float32,2},Array{Float32,1}}}}) at /home/jsmith/.julia/packages/Zygote/tJj2w/src/compiler/interface2.jl:0",
      " [9] adjoint at /home/jsmith/.julia/packages/Zygote/tJj2w/src/lib/lib.jl:153 [inlined]",
      " [10] _pullback at /home/jsmith/.julia/packages/ZygoteRules/6nssF/src/adjoint.jl:47 [inlined]",
      " [11] pullback at /home/jsmith/.julia/packages/Zygote/tJj2w/src/compiler/interface.jl:37 [inlined]",
      " [12] _pullback(::Zygote.Context, ::typeof(pullback), ::var\"#190#193\"{Array{Float32,2}}, ::Chain{Tuple{Dense{typeof(relu),Array{Float32,2},Array{Float32,1}},Dense{typeof(relu),Array{Float32,2},Array{Float32,1}},IdentitySkip,IdentitySkip,IdentitySkip,IdentitySkip,IdentitySkip,IdentitySkip,IdentitySkip,IdentitySkip,IdentitySkip,IdentitySkip,Dense{typeof(relu),Array{Float32,2},Array{Float32,1}},Dense{typeof(abs),Array{Float32,2},Array{Float32,1}}}}) at /home/jsmith/.julia/packages/Zygote/tJj2w/src/compiler/interface2.jl:0",
      " [13] adjoint at /home/jsmith/.julia/packages/Zygote/tJj2w/src/lib/lib.jl:153 [inlined]",
      " [14] _pullback at /home/jsmith/.julia/packages/ZygoteRules/6nssF/src/adjoint.jl:47 [inlined]",
      " [15] gradient at /home/jsmith/.julia/packages/Zygote/tJj2w/src/compiler/interface.jl:46 [inlined]",
      " [16] _pullback(::Zygote.Context, ::typeof(gradient), ::var\"#190#193\"{Array{Float32,2}}, ::Chain{Tuple{Dense{typeof(relu),Array{Float32,2},Array{Float32,1}},Dense{typeof(relu),Array{Float32,2},Array{Float32,1}},IdentitySkip,IdentitySkip,IdentitySkip,IdentitySkip,IdentitySkip,IdentitySkip,IdentitySkip,IdentitySkip,IdentitySkip,IdentitySkip,Dense{typeof(relu),Array{Float32,2},Array{Float32,1}},Dense{typeof(abs),Array{Float32,2},Array{Float32,1}}}}) at /home/jsmith/.julia/packages/Zygote/tJj2w/src/compiler/interface2.jl:0",
      " [17] loss at ./In[107]:5 [inlined]",
      " [18] _pullback(::Zygote.Context, ::typeof(loss), ::Array{Float32,2}, ::Array{Float64,1}) at /home/jsmith/.julia/packages/Zygote/tJj2w/src/compiler/interface2.jl:0",
      " [19] #194 at ./In[107]:29 [inlined]",
      " [20] _pullback(::Zygote.Context, ::var\"#194#195\") at /home/jsmith/.julia/packages/Zygote/tJj2w/src/compiler/interface2.jl:0",
      " [21] pullback(::Function, ::Params) at /home/jsmith/.julia/packages/Zygote/tJj2w/src/compiler/interface.jl:96",
      " [22] gradient(::Function, ::Params) at /home/jsmith/.julia/packages/Zygote/tJj2w/src/compiler/interface.jl:46",
      " [23] top-level scope at In[107]:28"
     ]
    }
   ],
   "source": [
    "function loss(x,y)\n",
    "    # Determining information about the output\n",
    "    tau  = m(x)\n",
    "    dtau(x) = x -> gradient(tau,x)[1]\n",
    "    display(gradient(()->m(x),m))\n",
    "    \n",
    "    tau   = reshape(tau,:,1)\n",
    "    T0    = .√((x[3,:] .- x[1,]).^2 + (x[4,:] .- x[2,:]).^2)\n",
    "    T1    = (T0.^2).*(dtau[3,:].^2 .+ dtau[4,:].^2)\n",
    "    T2    = (dtau[3,:].*(x[3,:] .- x[1,:]) .+ dtau[4,:].*(x[4,:] .- x[2,:])).* 2. .* tau\n",
    "    T3    = tau.^2\n",
    "    Slo   = (T1.+T2.+T3)\n",
    "    Vel   = (1 ./Slo)\n",
    "    TT    = T0.*tau     \n",
    "\n",
    "    Vel = reshape(Vel,1,:)\n",
    "    y   = reshape(y,1,:)\n",
    "    \n",
    "    # Determining the mean squared error \n",
    "    Flux.mse(Vel,y)\n",
    "\n",
    "end\n",
    "\n",
    "\n",
    "# ---- Defining the Parameters and optimiser\n",
    "ps  = Flux.params(m);\n",
    "opt = ADAM(0.00001)\n",
    "\n",
    "gs = gradient(() -> loss(x, y), params(m))\n"
   ]
  },
  {
   "cell_type": "code",
   "execution_count": 87,
   "metadata": {},
   "outputs": [
    {
     "data": {
      "text/plain": [
       "1.976895579107475"
      ]
     },
     "metadata": {},
     "output_type": "display_data"
    },
    {
     "ename": "ErrorException",
     "evalue": "Output should be scalar; gradients are not defined for output nothing",
     "output_type": "error",
     "traceback": [
      "Output should be scalar; gradients are not defined for output nothing",
      "",
      "Stacktrace:",
      " [1] error(::String) at ./error.jl:33",
      " [2] sensitivity(::Nothing) at /home/jsmith/.julia/packages/Zygote/tJj2w/src/compiler/interface.jl:43",
      " [3] gradient(::Function, ::Params) at /home/jsmith/.julia/packages/Zygote/tJj2w/src/compiler/interface.jl:47",
      " [4] macro expansion at /home/jsmith/.julia/packages/Flux/2i5P1/src/optimise/train.jl:68 [inlined]",
      " [5] macro expansion at /home/jsmith/.julia/packages/Juno/oLB1d/src/progress.jl:134 [inlined]",
      " [6] #train!#12(::var\"#121#122\", ::typeof(Flux.Optimise.train!), ::Function, ::Params, ::Array{Tuple{Array{Float32,2},Array{Float64,1}},1}, ::ADAM) at /home/jsmith/.julia/packages/Flux/2i5P1/src/optimise/train.jl:66",
      " [7] (::Flux.Optimise.var\"#kw##train!\")(::NamedTuple{(:cb,),Tuple{var\"#121#122\"}}, ::typeof(Flux.Optimise.train!), ::Function, ::Params, ::Array{Tuple{Array{Float32,2},Array{Float64,1}},1}, ::ADAM) at ./none:0",
      " [8] top-level scope at In[87]:1"
     ]
    }
   ],
   "source": [
    "Flux.train!(loss,ps,data,opt,cb = () -> println(\"training\"))"
   ]
  },
  {
   "cell_type": "code",
   "execution_count": null,
   "metadata": {},
   "outputs": [],
   "source": []
  }
 ],
 "metadata": {
  "kernelspec": {
   "display_name": "Julia 1.3.1",
   "language": "julia",
   "name": "julia-1.3"
  },
  "language_info": {
   "file_extension": ".jl",
   "mimetype": "application/julia",
   "name": "julia",
   "version": "1.3.1"
  }
 },
 "nbformat": 4,
 "nbformat_minor": 4
}
